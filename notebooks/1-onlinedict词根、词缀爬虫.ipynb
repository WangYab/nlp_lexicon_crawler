{
 "cells": [
  {
   "cell_type": "code",
   "execution_count": 1,
   "metadata": {},
   "outputs": [],
   "source": [
    "import requests\n",
    "import json\n",
    "import lxml\n",
    "from lxml import etree\n",
    "import re"
   ]
  },
  {
   "cell_type": "markdown",
   "metadata": {},
   "source": [
    "# 词根"
   ]
  },
  {
   "cell_type": "code",
   "execution_count": 43,
   "metadata": {},
   "outputs": [],
   "source": [
    "url='http://www.onlinedict.cn/root.html'\n",
    "html = etree.parse(url, etree.HTMLParser(encoding=\"utf-8\"))\n",
    "roots=[]\n",
    "for c in html.xpath(\"//div[@class='index-list-content']/ul/li\"):\n",
    "    i = c.xpath(\"string(./h3[@class='main-morpheme'])\").replace(\"-\", \"\").split(\",\")\n",
    "    j=c.xpath(\"string(./span[@class='index-list-translate'])\").strip()\n",
    "    k=c.xpath(\"string(./span[@class='index-list-source'])\").strip()\n",
    "    for name in i:\n",
    "        value={\"type\": \"Root\", \"name\": name.replace(\"\\xa0\", \"\").strip(), \"paraphrase\": j.replace(\"\\xa0\", \"\").strip(), \"origin\": k.replace(\"\\xa0\", \"\").strip()}\n",
    "        roots.append(value)"
   ]
  },
  {
   "cell_type": "code",
   "execution_count": 44,
   "metadata": {},
   "outputs": [],
   "source": [
    "outs = {i[\"name\"]:i for i in roots}\n",
    "with open(f\"./root-{len(outs)}.json\", \"w\", encoding=\"utf-8\") as f:\n",
    "    json.dump(outs, f, ensure_ascii=False)"
   ]
  },
  {
   "cell_type": "markdown",
   "metadata": {},
   "source": [
    "# 前缀"
   ]
  },
  {
   "cell_type": "code",
   "execution_count": 26,
   "metadata": {},
   "outputs": [],
   "source": [
    "# url='http://www.onlinedict.cn/prefix.html'\n",
    "# html = etree.parse(url, etree.HTMLParser(encoding=\"utf-8\"))\n",
    "# contents = html.xpath(\"//li/h3[@class='main-morpheme']\")\n",
    "# chs=html.xpath(\"//li/span[@class='index-list-translate']\")\n",
    "# prefixs=[]\n",
    "# for i,j in zip(contents, chs):\n",
    "#     for name in i.xpath(\"string(.)\").replace(\"-\", \"\").split(\",\"):\n",
    "#         value={\"type\": \"Prefix\", \"name\": name.strip(), \"paraphrase\": j.xpath(\"string(.)\").strip()}\n",
    "#         prefixs.append(value)"
   ]
  },
  {
   "cell_type": "code",
   "execution_count": 45,
   "metadata": {},
   "outputs": [],
   "source": [
    "url='http://www.onlinedict.cn/prefix.html'\n",
    "html = etree.parse(url, etree.HTMLParser(encoding=\"utf-8\"))\n",
    "prefixs=[]\n",
    "for c in html.xpath(\"//div[@class='index-list-content']/ul/li\"):\n",
    "    i = c.xpath(\"string(./h3[@class='main-morpheme'])\").replace(\"-\", \"\").split(\",\")\n",
    "    j=c.xpath(\"string(./span[@class='index-list-translate'])\").strip()\n",
    "    k=c.xpath(\"string(./span[@class='index-list-source'])\").strip()\n",
    "    for name in i:\n",
    "        value={\"type\": \"Prefix\", \"name\": name.replace(\"\\xa0\", \"\").strip(), \"paraphrase\": j.replace(\"\\xa0\", \"\").strip(), \"origin\": k.replace(\"\\xa0\", \"\").strip()}\n",
    "        prefixs.append(value)"
   ]
  },
  {
   "cell_type": "code",
   "execution_count": 46,
   "metadata": {},
   "outputs": [],
   "source": [
    "outs = {i[\"name\"]:i for i in prefixs}\n",
    "with open(f\"./prefix-{len(outs)}.json\", \"w\", encoding=\"utf-8\") as f:\n",
    "    json.dump(outs, f, ensure_ascii=False)"
   ]
  },
  {
   "cell_type": "markdown",
   "metadata": {},
   "source": [
    "# 后缀"
   ]
  },
  {
   "cell_type": "code",
   "execution_count": 47,
   "metadata": {},
   "outputs": [],
   "source": [
    "suffixs=[]\n",
    "for s in [\"verb_suffix\", \"adjective_suffix\", \"noun_suffix\", \"adverb_suffix\"]:\n",
    "    url=f'http://www.onlinedict.cn/{s}.html'\n",
    "    html = etree.parse(url, etree.HTMLParser(encoding=\"utf-8\"))\n",
    "    for c in html.xpath(\"//div[@class='index-list-content']/ul/li\"):\n",
    "        i = c.xpath(\"string(./h3[@class='main-morpheme'])\").replace(\"-\", \"\").split(\",\")\n",
    "        j=c.xpath(\"string(./span[@class='index-list-translate'])\").strip()\n",
    "        k=c.xpath(\"string(./span[@class='index-list-source'])\").strip()\n",
    "        for name in i:\n",
    "            value={\"type\": \"Suffix\", \"name\": name.replace(\"\\xa0\", \"\").strip(), \"paraphrase\": j.replace(\"\\xa0\", \"\").strip(), \n",
    "                   \"origin\": k.replace(\"\\xa0\", \"\").strip(), \"pos\": s.split(\"_\")[0].strip()}\n",
    "            suffixs.append(value)"
   ]
  },
  {
   "cell_type": "code",
   "execution_count": 49,
   "metadata": {},
   "outputs": [],
   "source": [
    "outs = {i[\"name\"]:i for i in suffixs}\n",
    "with open(f\"./suffix-{len(outs)}.json\", \"w\", encoding=\"utf-8\") as f:\n",
    "    json.dump(outs, f, ensure_ascii=False)"
   ]
  },
  {
   "cell_type": "code",
   "execution_count": null,
   "metadata": {},
   "outputs": [],
   "source": []
  }
 ],
 "metadata": {
  "kernelspec": {
   "display_name": "Python 3",
   "language": "python",
   "name": "python3"
  },
  "language_info": {
   "codemirror_mode": {
    "name": "ipython",
    "version": 3
   },
   "file_extension": ".py",
   "mimetype": "text/x-python",
   "name": "python",
   "nbconvert_exporter": "python",
   "pygments_lexer": "ipython3",
   "version": "3.8.5"
  }
 },
 "nbformat": 4,
 "nbformat_minor": 4
}
