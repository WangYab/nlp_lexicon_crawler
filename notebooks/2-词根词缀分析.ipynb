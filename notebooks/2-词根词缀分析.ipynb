{
 "cells": [
  {
   "cell_type": "code",
   "execution_count": 1,
   "metadata": {},
   "outputs": [],
   "source": [
    "import requests\n",
    "import json\n",
    "import lxml\n",
    "from lxml import etree\n",
    "import re"
   ]
  },
  {
   "cell_type": "code",
   "execution_count": 2,
   "metadata": {},
   "outputs": [],
   "source": [
    "with open(\"./prefix-176.json\", \"r\", encoding=\"utf-8\") as f:\n",
    "    prefixs = json.load(f)\n",
    "    \n",
    "with open(\"./suffix-248.json\", \"r\", encoding=\"utf-8\") as f:\n",
    "    suffixs = json.load(f)\n",
    "    \n",
    "with open(\"./root-609.json\", \"r\", encoding=\"utf-8\") as f:\n",
    "    roots = json.load(f)"
   ]
  },
  {
   "cell_type": "code",
   "execution_count": 4,
   "metadata": {},
   "outputs": [
    {
     "name": "stdout",
     "output_type": "stream",
     "text": [
      "prefixs in suffix:\n",
      "a\n",
      "ac\n",
      "ad\n",
      "al\n",
      "an\n",
      "ana\n",
      "ance\n",
      "ant\n",
      "ar\n",
      "e\n",
      "ex\n",
      "em\n",
      "en\n",
      "enne\n",
      "in\n",
      "red\n"
     ]
    }
   ],
   "source": [
    "print(\"prefixs in suffix:\")\n",
    "for i in prefixs:\n",
    "    if i in suffixs:\n",
    "        print(i)"
   ]
  },
  {
   "cell_type": "code",
   "execution_count": 5,
   "metadata": {},
   "outputs": [
    {
     "name": "stdout",
     "output_type": "stream",
     "text": [
      "prefixs in roots:\n",
      "ac\n",
      "ag\n",
      "all\n",
      "am\n",
      "bi\n",
      "cis\n",
      "col\n",
      "di\n",
      "em\n",
      "mini\n",
      "pan\n",
      "par\n",
      "pen\n",
      "peri\n",
      "sur\n",
      "un\n"
     ]
    }
   ],
   "source": [
    "print(\"prefixs in roots:\")\n",
    "for i in prefixs:\n",
    "    if i in roots:\n",
    "        print(i)"
   ]
  },
  {
   "cell_type": "code",
   "execution_count": 13,
   "metadata": {},
   "outputs": [
    {
     "ename": "KeyError",
     "evalue": "'re'",
     "output_type": "error",
     "traceback": [
      "\u001b[1;31m---------------------------------------------------------------------------\u001b[0m",
      "\u001b[1;31mKeyError\u001b[0m                                  Traceback (most recent call last)",
      "\u001b[1;32m<ipython-input-13-9171f980ae5b>\u001b[0m in \u001b[0;36m<module>\u001b[1;34m\u001b[0m\n\u001b[1;32m----> 1\u001b[1;33m \u001b[0mroots\u001b[0m\u001b[1;33m[\u001b[0m\u001b[1;34m\"re\"\u001b[0m\u001b[1;33m]\u001b[0m\u001b[1;33m\u001b[0m\u001b[1;33m\u001b[0m\u001b[0m\n\u001b[0m",
      "\u001b[1;31mKeyError\u001b[0m: 're'"
     ]
    }
   ],
   "source": [
    "roots[\"re\"]"
   ]
  },
  {
   "cell_type": "code",
   "execution_count": null,
   "metadata": {},
   "outputs": [],
   "source": []
  }
 ],
 "metadata": {
  "kernelspec": {
   "display_name": "Python 3",
   "language": "python",
   "name": "python3"
  },
  "language_info": {
   "codemirror_mode": {
    "name": "ipython",
    "version": 3
   },
   "file_extension": ".py",
   "mimetype": "text/x-python",
   "name": "python",
   "nbconvert_exporter": "python",
   "pygments_lexer": "ipython3",
   "version": "3.8.5"
  }
 },
 "nbformat": 4,
 "nbformat_minor": 4
}
