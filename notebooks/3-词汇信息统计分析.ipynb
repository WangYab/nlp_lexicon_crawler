{
 "cells": [
  {
   "cell_type": "code",
   "execution_count": 1,
   "metadata": {},
   "outputs": [],
   "source": [
    "import requests\n",
    "import json\n",
    "import lxml\n",
    "from lxml import etree\n",
    "import re\n",
    "import os"
   ]
  },
  {
   "cell_type": "code",
   "execution_count": 2,
   "metadata": {},
   "outputs": [
    {
     "name": "stdout",
     "output_type": "stream",
     "text": [
      "4000\n"
     ]
    }
   ],
   "source": [
    "wordInfos={}\n",
    "for file in os.listdir(\"../dicts/xiaozhan/\"):\n",
    "    file = file.strip()\n",
    "    with open(\"../dicts/xiaozhan/\" + file, \"r\", encoding=\"utf-8\") as f:\n",
    "        wordInfos[file] = json.load(f)\n",
    "print(len(wordInfos))"
   ]
  },
  {
   "cell_type": "code",
   "execution_count": 3,
   "metadata": {},
   "outputs": [],
   "source": [
    "with open(f\"../datas/01-xiaozhan-lexicon-infos-2020-12-03-{len(wordInfos)}.json\", \"w\", encoding=\"utf-8\") as f:\n",
    "    json.dump(wordInfos, f, ensure_ascii=False)"
   ]
  },
  {
   "cell_type": "markdown",
   "metadata": {},
   "source": [
    "# 词性"
   ]
  },
  {
   "cell_type": "code",
   "execution_count": 15,
   "metadata": {},
   "outputs": [
    {
     "name": "stdout",
     "output_type": "stream",
     "text": [
      "communication {'pos': 'c.', 'english': '', 'chinese': '信息；书信；电话', 'Sentences': [], 'source': 'xiaozhan'}\n",
      "experience {'pos': 'c.', 'english': '', 'chinese': '（一次）经历，体验', 'Sentences': [{'english': 'It was her first experience of living alone.', 'chinese': '那是她第一次单独生活。', 'source': 'xiaozhan-jianming', 'audioUrlUS': '', 'audioUrlUK': ''}, {'english': 'Employee: No, no, you just tell them a little bit about your experiences and skills, so they know what level you should be in.', 'chinese': '职员：不，你只告诉他们一点关于你的经验和技巧，这样他们好知道你是什么水平。', 'source': 'xiaozhan-scene', 'audioUrlUS': '', 'audioUrlUK': ''}], 'source': 'xiaozhan'}\n",
      "experience {'pos': 'c.', 'english': '', 'chinese': '传统', 'Sentences': [{'english': 'musical forms like jazz that emerged out of the Black American experience', 'chinese': '诸如爵士乐这类起源于美国黑人传统的音乐形式', 'source': 'xiaozhan-jianming', 'audioUrlUS': '', 'audioUrlUK': ''}], 'source': 'xiaozhan'}\n",
      "experiment {'pos': 'c.', 'english': '', 'chinese': '(科学)实验', 'Sentences': [], 'source': 'xiaozhan'}\n",
      "hive {'pos': 'c.', 'english': '', 'chinese': '忙碌的地方', 'Sentences': [], 'source': 'xiaozhan'}\n",
      "hive {'pos': 'c.', 'english': '', 'chinese': '蜂房，蜂巢', 'Sentences': [], 'source': 'xiaozhan'}\n",
      "refreshments {'pos': 'c.', 'english': '', 'chinese': '点心，小吃（refreshment的复数）', 'Sentences': [], 'source': 'xiaozhan'}\n",
      "social {'pos': 'c.', 'english': '', 'chinese': '联谊会；联欢会', 'Sentences': [{'english': \"We're living on the social now.\", 'chinese': '我们现在靠社会保障金维持生活。', 'source': 'xiaozhan-jianming', 'audioUrlUS': '', 'audioUrlUK': ''}], 'source': 'xiaozhan'}\n",
      "tick {'pos': 'c.', 'english': '', 'chinese': '核对号；对号；钩号；记号', 'Sentences': [{'english': 'Put a tick in the appropriate box if you would like further information about any of our products.', 'chinese': '如想进一步了解我们任何产品的情况，请在适当的方框内打钩。', 'source': 'xiaozhan-jianming', 'audioUrlUS': '', 'audioUrlUK': ''}], 'source': 'xiaozhan'}\n",
      "tick {'pos': 'c.', 'english': '', 'chinese': '一会儿；一瞬间；一刹那；片刻', 'Sentences': [{'english': 'Hang on a tick!', 'chinese': '等一会，别挂断电话！', 'source': 'xiaozhan-jianming', 'audioUrlUS': '', 'audioUrlUK': ''}], 'source': 'xiaozhan'}\n",
      "tick {'pos': 'c.', 'english': '', 'chinese': '扁虱', 'Sentences': [{'english': 'Tick bites can cause Lyme disease.', 'chinese': '被蜱叮咬会引发莱姆病。', 'source': 'xiaozhan-jianming', 'audioUrlUS': '', 'audioUrlUK': ''}], 'source': 'xiaozhan'}\n",
      "21 {'爱滋病（Acquired Immune Deficiency Syndrome）; abbr.', 'vi.', 'pron.', '重型设备（Heavy Equipment）；硬件鉴定器（Hardware Evaluator）;abbr.', 'aux.', 'interj.', 'c.', 'int.', '空间轨道轰炸机（Space Orbital Bomber）; abbr.', 'abbr.', 'art.', 'v.', 'conj.', 'n.', 'adj.', 'u.', 'vt.', 'prep.', 'adv.', '呼叫设备（Calling Device）；中央地区（Central District）；商务部（Commerce Department）; abbr.', 'num.'}\n"
     ]
    }
   ],
   "source": [
    "poss=[]\n",
    "for k,v in wordInfos.items():\n",
    "    if v[\"Paraphrases\"]:\n",
    "        poss += [j[\"pos\"].strip() for j in v[\"Paraphrases\"]]\n",
    "        for j in v[\"Paraphrases\"]:\n",
    "            if j[\"pos\"] == \"c.\":\n",
    "                print(k, j)\n",
    "        \n",
    "print(len(set(poss)), set(poss))"
   ]
  },
  {
   "cell_type": "code",
   "execution_count": null,
   "metadata": {},
   "outputs": [],
   "source": []
  }
 ],
 "metadata": {
  "kernelspec": {
   "display_name": "Python 3",
   "language": "python",
   "name": "python3"
  },
  "language_info": {
   "codemirror_mode": {
    "name": "ipython",
    "version": 3
   },
   "file_extension": ".py",
   "mimetype": "text/x-python",
   "name": "python",
   "nbconvert_exporter": "python",
   "pygments_lexer": "ipython3",
   "version": "3.8.5"
  }
 },
 "nbformat": 4,
 "nbformat_minor": 4
}
